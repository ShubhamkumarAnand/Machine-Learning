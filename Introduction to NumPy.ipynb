{
 "cells": [
  {
   "cell_type": "markdown",
   "id": "ebe08330",
   "metadata": {},
   "source": [
    "# Numpy "
   ]
  },
  {
   "cell_type": "markdown",
   "id": "1fe2da44",
   "metadata": {},
   "source": [
    "#### Vectorization via Broadcasting (Avoiding Loops)"
   ]
  },
  {
   "cell_type": "markdown",
   "id": "38f777a2",
   "metadata": {},
   "source": [
    "## Lecture - 1"
   ]
  },
  {
   "cell_type": "code",
   "execution_count": 213,
   "id": "4d743511",
   "metadata": {},
   "outputs": [],
   "source": [
    "import numpy as np "
   ]
  },
  {
   "cell_type": "markdown",
   "id": "17b5cdd2",
   "metadata": {},
   "source": [
    "### Datatype and Attributes"
   ]
  },
  {
   "cell_type": "code",
   "execution_count": 214,
   "id": "370e98d9",
   "metadata": {},
   "outputs": [
    {
     "data": {
      "text/plain": [
       "array([1, 2, 3])"
      ]
     },
     "execution_count": 214,
     "metadata": {},
     "output_type": "execute_result"
    }
   ],
   "source": [
    "# Numpy main datatype is nd-array\n",
    "n1 = np.array([1,2,3])\n",
    "n1"
   ]
  },
  {
   "cell_type": "code",
   "execution_count": 215,
   "id": "fb31cfd9",
   "metadata": {},
   "outputs": [
    {
     "data": {
      "text/plain": [
       "array([[3.2, 1. , 2.2],\n",
       "       [4. , 5.2, 6.8]])"
      ]
     },
     "execution_count": 215,
     "metadata": {},
     "output_type": "execute_result"
    }
   ],
   "source": [
    "n2 = np.array([[3.2,1,2.2],[4,5.2,6.8]])\n",
    "n2"
   ]
  },
  {
   "cell_type": "code",
   "execution_count": 216,
   "id": "838cd871",
   "metadata": {},
   "outputs": [
    {
     "data": {
      "text/plain": [
       "array([[[ 1,  2,  3],\n",
       "        [ 4,  5,  6],\n",
       "        [ 7,  8,  9]],\n",
       "\n",
       "       [[10, 11, 12],\n",
       "        [13, 14, 15],\n",
       "        [16, 17, 18]]])"
      ]
     },
     "execution_count": 216,
     "metadata": {},
     "output_type": "execute_result"
    }
   ],
   "source": [
    "n3 = np.array([[[1,2,3],\n",
    "                [4,5,6],\n",
    "                [7,8,9]],\n",
    "                  [[10,11,12],\n",
    "                  [13,14,15],\n",
    "                  [16,17,18]]])\n",
    "n3"
   ]
  },
  {
   "cell_type": "code",
   "execution_count": 217,
   "id": "1f57a519",
   "metadata": {},
   "outputs": [
    {
     "data": {
      "text/plain": [
       "(3,)"
      ]
     },
     "execution_count": 217,
     "metadata": {},
     "output_type": "execute_result"
    }
   ],
   "source": [
    "n1.shape"
   ]
  },
  {
   "cell_type": "code",
   "execution_count": 218,
   "id": "3976a5e7",
   "metadata": {},
   "outputs": [
    {
     "data": {
      "text/plain": [
       "(2, 3)"
      ]
     },
     "execution_count": 218,
     "metadata": {},
     "output_type": "execute_result"
    }
   ],
   "source": [
    "n2.shape"
   ]
  },
  {
   "cell_type": "code",
   "execution_count": 219,
   "id": "f0761168",
   "metadata": {},
   "outputs": [
    {
     "data": {
      "text/plain": [
       "(2, 3, 3)"
      ]
     },
     "execution_count": 219,
     "metadata": {},
     "output_type": "execute_result"
    }
   ],
   "source": [
    "n3.shape"
   ]
  },
  {
   "cell_type": "code",
   "execution_count": 220,
   "id": "97a18fe3",
   "metadata": {},
   "outputs": [
    {
     "data": {
      "text/plain": [
       "(1, 2, 3)"
      ]
     },
     "execution_count": 220,
     "metadata": {},
     "output_type": "execute_result"
    }
   ],
   "source": [
    "n1.ndim, n2.ndim, n3.ndim"
   ]
  },
  {
   "cell_type": "code",
   "execution_count": 221,
   "id": "aead6004",
   "metadata": {},
   "outputs": [
    {
     "data": {
      "text/plain": [
       "(dtype('int64'), dtype('float64'), dtype('int64'))"
      ]
     },
     "execution_count": 221,
     "metadata": {},
     "output_type": "execute_result"
    }
   ],
   "source": [
    "n1.dtype, n2.dtype, n3.dtype"
   ]
  },
  {
   "cell_type": "code",
   "execution_count": 222,
   "id": "60d0ec0e",
   "metadata": {},
   "outputs": [
    {
     "data": {
      "text/plain": [
       "(3, 6, 18)"
      ]
     },
     "execution_count": 222,
     "metadata": {},
     "output_type": "execute_result"
    }
   ],
   "source": [
    "n1.size, n2.size, n3.size"
   ]
  },
  {
   "cell_type": "code",
   "execution_count": 223,
   "id": "80ebfdcc",
   "metadata": {},
   "outputs": [
    {
     "data": {
      "text/plain": [
       "(numpy.ndarray, numpy.ndarray, numpy.ndarray)"
      ]
     },
     "execution_count": 223,
     "metadata": {},
     "output_type": "execute_result"
    }
   ],
   "source": [
    "type(n1), type(n2), type(n3)"
   ]
  },
  {
   "cell_type": "code",
   "execution_count": 224,
   "id": "90babf96",
   "metadata": {},
   "outputs": [
    {
     "data": {
      "text/html": [
       "<div>\n",
       "<style scoped>\n",
       "    .dataframe tbody tr th:only-of-type {\n",
       "        vertical-align: middle;\n",
       "    }\n",
       "\n",
       "    .dataframe tbody tr th {\n",
       "        vertical-align: top;\n",
       "    }\n",
       "\n",
       "    .dataframe thead th {\n",
       "        text-align: right;\n",
       "    }\n",
       "</style>\n",
       "<table border=\"1\" class=\"dataframe\">\n",
       "  <thead>\n",
       "    <tr style=\"text-align: right;\">\n",
       "      <th></th>\n",
       "      <th>0</th>\n",
       "      <th>1</th>\n",
       "      <th>2</th>\n",
       "    </tr>\n",
       "  </thead>\n",
       "  <tbody>\n",
       "    <tr>\n",
       "      <th>0</th>\n",
       "      <td>3.2</td>\n",
       "      <td>1.0</td>\n",
       "      <td>2.2</td>\n",
       "    </tr>\n",
       "    <tr>\n",
       "      <th>1</th>\n",
       "      <td>4.0</td>\n",
       "      <td>5.2</td>\n",
       "      <td>6.8</td>\n",
       "    </tr>\n",
       "  </tbody>\n",
       "</table>\n",
       "</div>"
      ],
      "text/plain": [
       "     0    1    2\n",
       "0  3.2  1.0  2.2\n",
       "1  4.0  5.2  6.8"
      ]
     },
     "execution_count": 224,
     "metadata": {},
     "output_type": "execute_result"
    }
   ],
   "source": [
    "# Create a DataFrame From Numpy\n",
    "import pandas as pd\n",
    "\n",
    "df = pd.DataFrame(n2)\n",
    "df"
   ]
  },
  {
   "cell_type": "markdown",
   "id": "1b971b8e",
   "metadata": {},
   "source": [
    "## Lecture - 2"
   ]
  },
  {
   "cell_type": "markdown",
   "id": "afc8c061",
   "metadata": {},
   "source": [
    "#### Creating ndarrays"
   ]
  },
  {
   "cell_type": "code",
   "execution_count": 225,
   "id": "069f80d8",
   "metadata": {},
   "outputs": [
    {
     "data": {
      "text/plain": [
       "array([[1., 1., 1.],\n",
       "       [1., 1., 1.]])"
      ]
     },
     "execution_count": 225,
     "metadata": {},
     "output_type": "execute_result"
    }
   ],
   "source": [
    "ones = np.ones((2, 3))\n",
    "ones"
   ]
  },
  {
   "cell_type": "code",
   "execution_count": 226,
   "id": "2fdf2ce2",
   "metadata": {},
   "outputs": [
    {
     "data": {
      "text/plain": [
       "dtype('float64')"
      ]
     },
     "execution_count": 226,
     "metadata": {},
     "output_type": "execute_result"
    }
   ],
   "source": [
    "ones.dtype"
   ]
  },
  {
   "cell_type": "code",
   "execution_count": 227,
   "id": "0ac00cd2",
   "metadata": {},
   "outputs": [
    {
     "data": {
      "text/plain": [
       "numpy.ndarray"
      ]
     },
     "execution_count": 227,
     "metadata": {},
     "output_type": "execute_result"
    }
   ],
   "source": [
    "type(ones)"
   ]
  },
  {
   "cell_type": "code",
   "execution_count": 228,
   "id": "6d16b75d",
   "metadata": {},
   "outputs": [
    {
     "data": {
      "text/plain": [
       "array([0., 0., 0.])"
      ]
     },
     "execution_count": 228,
     "metadata": {},
     "output_type": "execute_result"
    }
   ],
   "source": [
    "zeros = np.zeros((3))\n",
    "zeros"
   ]
  },
  {
   "cell_type": "code",
   "execution_count": 229,
   "id": "1e94e721",
   "metadata": {},
   "outputs": [
    {
     "data": {
      "text/plain": [
       "array([ 0. ,  0.7,  1.4,  2.1,  2.8,  3.5,  4.2,  4.9,  5.6,  6.3,  7. ,\n",
       "        7.7,  8.4,  9.1,  9.8, 10.5, 11.2, 11.9])"
      ]
     },
     "execution_count": 229,
     "metadata": {},
     "output_type": "execute_result"
    }
   ],
   "source": [
    "arr1 = np.arange(0,12,.7)\n",
    "arr1"
   ]
  },
  {
   "cell_type": "code",
   "execution_count": 230,
   "id": "9ac34a32",
   "metadata": {},
   "outputs": [
    {
     "data": {
      "text/plain": [
       "18"
      ]
     },
     "execution_count": 230,
     "metadata": {},
     "output_type": "execute_result"
    }
   ],
   "source": [
    "arr1.size"
   ]
  },
  {
   "cell_type": "code",
   "execution_count": 231,
   "id": "3f5c21a1",
   "metadata": {},
   "outputs": [
    {
     "data": {
      "text/plain": [
       "numpy.ndarray"
      ]
     },
     "execution_count": 231,
     "metadata": {},
     "output_type": "execute_result"
    }
   ],
   "source": [
    "type(arr1)"
   ]
  },
  {
   "cell_type": "code",
   "execution_count": 232,
   "id": "b0f90dd1",
   "metadata": {},
   "outputs": [
    {
     "data": {
      "text/plain": [
       "array([[ 2,  0,  0,  4,  5],\n",
       "       [ 5,  6,  8,  4,  1],\n",
       "       [ 4,  9, 10, 10,  8]])"
      ]
     },
     "execution_count": 232,
     "metadata": {},
     "output_type": "execute_result"
    }
   ],
   "source": [
    "arr2 = np.random.randint(0,15, size = (3,5))\n",
    "arr2"
   ]
  },
  {
   "cell_type": "code",
   "execution_count": 233,
   "id": "a38ca03b",
   "metadata": {},
   "outputs": [
    {
     "data": {
      "text/plain": [
       "array([[0.90234858, 0.09928035, 0.96980907],\n",
       "       [0.65314004, 0.17090959, 0.35815217],\n",
       "       [0.75068614, 0.60783067, 0.32504723],\n",
       "       [0.03842543, 0.63427406, 0.95894927],\n",
       "       [0.65279032, 0.63505887, 0.99529957]])"
      ]
     },
     "execution_count": 233,
     "metadata": {},
     "output_type": "execute_result"
    }
   ],
   "source": [
    "arr3 = np.random.random((5,3))\n",
    "arr3"
   ]
  },
  {
   "cell_type": "code",
   "execution_count": 234,
   "id": "d146cc5b",
   "metadata": {},
   "outputs": [
    {
     "data": {
      "text/plain": [
       "(5, 3)"
      ]
     },
     "execution_count": 234,
     "metadata": {},
     "output_type": "execute_result"
    }
   ],
   "source": [
    "arr3.shape"
   ]
  },
  {
   "cell_type": "code",
   "execution_count": 235,
   "id": "a5fdf3b1",
   "metadata": {},
   "outputs": [
    {
     "data": {
      "text/plain": [
       "15"
      ]
     },
     "execution_count": 235,
     "metadata": {},
     "output_type": "execute_result"
    }
   ],
   "source": [
    "arr3.size"
   ]
  },
  {
   "cell_type": "code",
   "execution_count": 236,
   "id": "80a37862",
   "metadata": {},
   "outputs": [
    {
     "data": {
      "text/plain": [
       "array([[0.58185033, 0.41436859, 0.4746975 ],\n",
       "       [0.6235101 , 0.33800761, 0.67475232],\n",
       "       [0.31720174, 0.77834548, 0.94957105],\n",
       "       [0.66252687, 0.01357164, 0.6228461 ],\n",
       "       [0.67365963, 0.971945  , 0.87819347]])"
      ]
     },
     "execution_count": 236,
     "metadata": {},
     "output_type": "execute_result"
    }
   ],
   "source": [
    "arr4 = np.random.rand(5,3)\n",
    "arr4"
   ]
  },
  {
   "cell_type": "markdown",
   "id": "e2586af2",
   "metadata": {},
   "source": [
    "## Lecture - 3"
   ]
  },
  {
   "cell_type": "markdown",
   "id": "9a27165a",
   "metadata": {},
   "source": [
    "### Pseudo Random Numbers"
   ]
  },
  {
   "cell_type": "code",
   "execution_count": 237,
   "id": "21baa9a7",
   "metadata": {},
   "outputs": [
    {
     "data": {
      "text/plain": [
       "array([[0.96702984, 0.54723225, 0.97268436, 0.71481599],\n",
       "       [0.69772882, 0.2160895 , 0.97627445, 0.00623026],\n",
       "       [0.25298236, 0.43479153, 0.77938292, 0.19768507],\n",
       "       [0.86299324, 0.98340068, 0.16384224, 0.59733394],\n",
       "       [0.0089861 , 0.38657128, 0.04416006, 0.95665297]])"
      ]
     },
     "execution_count": 237,
     "metadata": {},
     "output_type": "execute_result"
    }
   ],
   "source": [
    "np.random.seed(4)\n",
    "arr5 = np.random.rand(5,4)\n",
    "arr5"
   ]
  },
  {
   "cell_type": "code",
   "execution_count": 238,
   "id": "c5f9648a",
   "metadata": {},
   "outputs": [
    {
     "data": {
      "text/plain": [
       "(5, 4)"
      ]
     },
     "execution_count": 238,
     "metadata": {},
     "output_type": "execute_result"
    }
   ],
   "source": [
    "arr5.shape"
   ]
  },
  {
   "cell_type": "code",
   "execution_count": 239,
   "id": "4bc82e99",
   "metadata": {},
   "outputs": [
    {
     "data": {
      "text/plain": [
       "numpy.ndarray"
      ]
     },
     "execution_count": 239,
     "metadata": {},
     "output_type": "execute_result"
    }
   ],
   "source": [
    "type(arr5)"
   ]
  },
  {
   "cell_type": "markdown",
   "id": "28bcfdc1",
   "metadata": {},
   "source": [
    "## Lecture - 4"
   ]
  },
  {
   "cell_type": "markdown",
   "id": "32ee0709",
   "metadata": {},
   "source": [
    "### Viewing Array & Matrix"
   ]
  },
  {
   "cell_type": "code",
   "execution_count": 240,
   "id": "3ea21890",
   "metadata": {},
   "outputs": [
    {
     "data": {
      "text/plain": [
       "array([ 0,  1,  2,  4,  5,  6,  8,  9, 10])"
      ]
     },
     "execution_count": 240,
     "metadata": {},
     "output_type": "execute_result"
    }
   ],
   "source": [
    "np.unique(arr2)"
   ]
  },
  {
   "cell_type": "code",
   "execution_count": 241,
   "id": "09a20cc5",
   "metadata": {},
   "outputs": [
    {
     "data": {
      "text/plain": [
       "1"
      ]
     },
     "execution_count": 241,
     "metadata": {},
     "output_type": "execute_result"
    }
   ],
   "source": [
    "n1[0]"
   ]
  },
  {
   "cell_type": "code",
   "execution_count": 242,
   "id": "34bff913",
   "metadata": {},
   "outputs": [
    {
     "data": {
      "text/plain": [
       "array([3.2, 1. , 2.2])"
      ]
     },
     "execution_count": 242,
     "metadata": {},
     "output_type": "execute_result"
    }
   ],
   "source": [
    "n2[0]"
   ]
  },
  {
   "cell_type": "code",
   "execution_count": 243,
   "id": "e0b61d3a",
   "metadata": {},
   "outputs": [
    {
     "data": {
      "text/plain": [
       "array([[1, 2, 3],\n",
       "       [4, 5, 6],\n",
       "       [7, 8, 9]])"
      ]
     },
     "execution_count": 243,
     "metadata": {},
     "output_type": "execute_result"
    }
   ],
   "source": [
    "n3[0]"
   ]
  },
  {
   "cell_type": "code",
   "execution_count": 244,
   "id": "4d7940fb",
   "metadata": {},
   "outputs": [
    {
     "data": {
      "text/plain": [
       "array([[[[8, 1, 2, 7, 0],\n",
       "         [8, 3, 1, 0, 3],\n",
       "         [2, 3, 2, 9, 2],\n",
       "         [1, 0, 1, 9, 9]],\n",
       "\n",
       "        [[0, 7, 2, 6, 3],\n",
       "         [7, 8, 2, 6, 7],\n",
       "         [7, 9, 2, 7, 5],\n",
       "         [3, 0, 5, 4, 3]],\n",
       "\n",
       "        [[8, 9, 5, 8, 6],\n",
       "         [7, 0, 4, 6, 8],\n",
       "         [4, 8, 1, 9, 5],\n",
       "         [4, 2, 3, 4, 7]]],\n",
       "\n",
       "\n",
       "       [[[6, 6, 8, 0, 3],\n",
       "         [5, 6, 1, 1, 6],\n",
       "         [0, 8, 7, 5, 7],\n",
       "         [6, 8, 4, 4, 0]],\n",
       "\n",
       "        [[7, 2, 1, 8, 8],\n",
       "         [1, 3, 1, 3, 6],\n",
       "         [7, 4, 0, 7, 3],\n",
       "         [7, 9, 6, 6, 9]],\n",
       "\n",
       "        [[3, 2, 7, 6, 7],\n",
       "         [9, 4, 3, 0, 5],\n",
       "         [0, 9, 5, 7, 5],\n",
       "         [9, 8, 2, 4, 2]]]])"
      ]
     },
     "execution_count": 244,
     "metadata": {},
     "output_type": "execute_result"
    }
   ],
   "source": [
    "n4 = np.random.randint(10, size = (2,3,4,5))\n",
    "n4"
   ]
  },
  {
   "cell_type": "code",
   "execution_count": 245,
   "id": "5cfdc4e0",
   "metadata": {},
   "outputs": [
    {
     "data": {
      "text/plain": [
       "((2, 3, 4, 5), 120)"
      ]
     },
     "execution_count": 245,
     "metadata": {},
     "output_type": "execute_result"
    }
   ],
   "source": [
    "n4.shape, n4.size"
   ]
  },
  {
   "cell_type": "code",
   "execution_count": 246,
   "id": "751acf7e",
   "metadata": {},
   "outputs": [
    {
     "name": "stdout",
     "output_type": "stream",
     "text": [
      "[3 2 7 6]\n"
     ]
    },
    {
     "data": {
      "text/plain": [
       "array([[[[8, 1],\n",
       "         [8, 3],\n",
       "         [2, 3],\n",
       "         [1, 0]],\n",
       "\n",
       "        [[0, 7],\n",
       "         [7, 8],\n",
       "         [7, 9],\n",
       "         [3, 0]],\n",
       "\n",
       "        [[8, 9],\n",
       "         [7, 0],\n",
       "         [4, 8],\n",
       "         [4, 2]]],\n",
       "\n",
       "\n",
       "       [[[6, 6],\n",
       "         [5, 6],\n",
       "         [0, 8],\n",
       "         [6, 8]],\n",
       "\n",
       "        [[7, 2],\n",
       "         [1, 3],\n",
       "         [7, 4],\n",
       "         [7, 9]],\n",
       "\n",
       "        [[3, 2],\n",
       "         [9, 4],\n",
       "         [0, 9],\n",
       "         [9, 8]]]])"
      ]
     },
     "execution_count": 246,
     "metadata": {},
     "output_type": "execute_result"
    }
   ],
   "source": [
    "# Get the 4 elements of innermost array \n",
    "print(n4[1][2][0][:4])\n",
    "n4[:,:,:,:2]"
   ]
  },
  {
   "cell_type": "markdown",
   "id": "eb46a695",
   "metadata": {},
   "source": [
    "## Lecture  - 5"
   ]
  },
  {
   "cell_type": "markdown",
   "id": "caa57588",
   "metadata": {},
   "source": [
    "### Manipulating Arrays"
   ]
  },
  {
   "cell_type": "markdown",
   "id": "40c60421",
   "metadata": {},
   "source": [
    "#### Arithematic Manipulation"
   ]
  },
  {
   "cell_type": "code",
   "execution_count": 247,
   "id": "6928152a",
   "metadata": {},
   "outputs": [
    {
     "data": {
      "text/plain": [
       "array([1., 1., 1.])"
      ]
     },
     "execution_count": 247,
     "metadata": {},
     "output_type": "execute_result"
    }
   ],
   "source": [
    "ones = np.ones(3)\n",
    "ones"
   ]
  },
  {
   "cell_type": "code",
   "execution_count": 248,
   "id": "54d93a73",
   "metadata": {},
   "outputs": [
    {
     "data": {
      "text/plain": [
       "array([1, 2, 3])"
      ]
     },
     "execution_count": 248,
     "metadata": {},
     "output_type": "execute_result"
    }
   ],
   "source": [
    "n1 "
   ]
  },
  {
   "cell_type": "code",
   "execution_count": 249,
   "id": "96c117b2",
   "metadata": {},
   "outputs": [
    {
     "data": {
      "text/plain": [
       "(array([0., 1., 2.]), array([2., 3., 4.]), array([1., 2., 3.]))"
      ]
     },
     "execution_count": 249,
     "metadata": {},
     "output_type": "execute_result"
    }
   ],
   "source": [
    "n1 - ones, n1+ ones ,n1 * ones"
   ]
  },
  {
   "cell_type": "code",
   "execution_count": 250,
   "id": "6eab0fb1",
   "metadata": {},
   "outputs": [
    {
     "data": {
      "text/plain": [
       "array([[ 3.2,  2. ,  6.6],\n",
       "       [ 4. , 10.4, 20.4]])"
      ]
     },
     "execution_count": 250,
     "metadata": {},
     "output_type": "execute_result"
    }
   ],
   "source": [
    "n1*n2"
   ]
  },
  {
   "cell_type": "code",
   "execution_count": 251,
   "id": "19276950",
   "metadata": {},
   "outputs": [
    {
     "data": {
      "text/plain": [
       "array([[ 32.768,   1.   ,  10.648],\n",
       "       [ 64.   , 140.608, 314.432]])"
      ]
     },
     "execution_count": 251,
     "metadata": {},
     "output_type": "execute_result"
    }
   ],
   "source": [
    "n2**3"
   ]
  },
  {
   "cell_type": "code",
   "execution_count": 252,
   "id": "9a63ba10",
   "metadata": {},
   "outputs": [
    {
     "data": {
      "text/plain": [
       "array([[3., 0., 0.],\n",
       "       [4., 2., 2.]])"
      ]
     },
     "execution_count": 252,
     "metadata": {},
     "output_type": "execute_result"
    }
   ],
   "source": [
    "n2 // n1"
   ]
  },
  {
   "cell_type": "code",
   "execution_count": 253,
   "id": "e0f3f150",
   "metadata": {},
   "outputs": [
    {
     "data": {
      "text/plain": [
       "array([[3.2       , 0.5       , 0.73333333],\n",
       "       [4.        , 2.6       , 2.26666667]])"
      ]
     },
     "execution_count": 253,
     "metadata": {},
     "output_type": "execute_result"
    }
   ],
   "source": [
    "n2 / n1"
   ]
  },
  {
   "cell_type": "code",
   "execution_count": 254,
   "id": "9654e0be",
   "metadata": {},
   "outputs": [
    {
     "data": {
      "text/plain": [
       "array([[10.24,  1.  ,  4.84],\n",
       "       [16.  , 27.04, 46.24]])"
      ]
     },
     "execution_count": 254,
     "metadata": {},
     "output_type": "execute_result"
    }
   ],
   "source": [
    "np.square(n2)"
   ]
  },
  {
   "cell_type": "code",
   "execution_count": 255,
   "id": "ed450bd8",
   "metadata": {},
   "outputs": [
    {
     "data": {
      "text/plain": [
       "array([[1.16315081, 0.        , 0.78845736],\n",
       "       [1.38629436, 1.64865863, 1.91692261]])"
      ]
     },
     "execution_count": 255,
     "metadata": {},
     "output_type": "execute_result"
    }
   ],
   "source": [
    "np.log(n2)"
   ]
  },
  {
   "cell_type": "code",
   "execution_count": 256,
   "id": "b0d19f9c",
   "metadata": {},
   "outputs": [
    {
     "data": {
      "text/plain": [
       "array([[ 24.5325302 ,   2.71828183,   9.0250135 ],\n",
       "       [ 54.59815003, 181.27224188, 897.84729165]])"
      ]
     },
     "execution_count": 256,
     "metadata": {},
     "output_type": "execute_result"
    }
   ],
   "source": [
    "np.exp(n2)"
   ]
  },
  {
   "cell_type": "code",
   "execution_count": 257,
   "id": "6e5c1c80",
   "metadata": {},
   "outputs": [
    {
     "data": {
      "text/plain": [
       "array([[0.2, 1. , 2.2],\n",
       "       [1. , 2.2, 0.8]])"
      ]
     },
     "execution_count": 257,
     "metadata": {},
     "output_type": "execute_result"
    }
   ],
   "source": [
    "n2 % 3"
   ]
  },
  {
   "cell_type": "code",
   "execution_count": 258,
   "id": "0b55b9e2",
   "metadata": {},
   "outputs": [
    {
     "data": {
      "text/plain": [
       "array([[1.06666667, 0.33333333, 0.73333333],\n",
       "       [1.33333333, 1.73333333, 2.26666667]])"
      ]
     },
     "execution_count": 258,
     "metadata": {},
     "output_type": "execute_result"
    }
   ],
   "source": [
    "n2 / 3"
   ]
  },
  {
   "cell_type": "markdown",
   "id": "0cf4c034",
   "metadata": {},
   "source": [
    "## Lecture - 6\n",
    "### Aggregation\n",
    "    Aggregation -Performing same opration on Number of Things"
   ]
  },
  {
   "cell_type": "markdown",
   "id": "e0237a83",
   "metadata": {},
   "source": [
    "Use python method `sum()` on python object and on Numpy NdArrays use `np.sum()`"
   ]
  },
  {
   "cell_type": "code",
   "execution_count": 259,
   "id": "67b73111",
   "metadata": {},
   "outputs": [
    {
     "data": {
      "text/plain": [
       "6"
      ]
     },
     "execution_count": 259,
     "metadata": {},
     "output_type": "execute_result"
    }
   ],
   "source": [
    "np.sum(n1)"
   ]
  },
  {
   "cell_type": "code",
   "execution_count": 260,
   "id": "edc8b203",
   "metadata": {},
   "outputs": [
    {
     "data": {
      "text/plain": [
       "1000000"
      ]
     },
     "execution_count": 260,
     "metadata": {},
     "output_type": "execute_result"
    }
   ],
   "source": [
    "massive_nparray = np.random.rand(1000000)\n",
    "massive_nparray.size"
   ]
  },
  {
   "cell_type": "code",
   "execution_count": 261,
   "id": "d9937425",
   "metadata": {},
   "outputs": [
    {
     "data": {
      "text/plain": [
       "array([0.46232936, 0.14546233, 0.30879456, 0.75321209, 0.75535939,\n",
       "       0.91751181, 0.93168902, 0.09014173, 0.19530471, 0.56146847])"
      ]
     },
     "execution_count": 261,
     "metadata": {},
     "output_type": "execute_result"
    }
   ],
   "source": [
    "massive_nparray[:10]"
   ]
  },
  {
   "cell_type": "code",
   "execution_count": 262,
   "id": "185ba41a",
   "metadata": {},
   "outputs": [
    {
     "name": "stdout",
     "output_type": "stream",
     "text": [
      "210 ms ± 10.3 ms per loop (mean ± std. dev. of 7 runs, 1 loop each)\n",
      "985 µs ± 271 µs per loop (mean ± std. dev. of 7 runs, 1000 loops each)\n"
     ]
    }
   ],
   "source": [
    "%timeit sum(massive_nparray) # Python's Sum()\n",
    "%timeit np.sum(massive_nparray) #Numpy np.sum()"
   ]
  },
  {
   "cell_type": "code",
   "execution_count": 263,
   "id": "ed846c2c",
   "metadata": {
    "scrolled": true
   },
   "outputs": [
    {
     "data": {
      "text/plain": [
       "(3.733333333333334, 6.8, 1.0)"
      ]
     },
     "execution_count": 263,
     "metadata": {},
     "output_type": "execute_result"
    }
   ],
   "source": [
    "np.mean(n2), np.max(n2), np.min(n2)"
   ]
  },
  {
   "cell_type": "markdown",
   "id": "ae13ac45",
   "metadata": {},
   "source": [
    "### Varience = The average of the squared differences from the Mean.\n",
    "### Standered Deviation = The Standard Deviation is just the square root of Variance"
   ]
  },
  {
   "cell_type": "code",
   "execution_count": 264,
   "id": "419f1e41",
   "metadata": {},
   "outputs": [
    {
     "data": {
      "text/plain": [
       "(1.903213656482693, 3.6222222222222222)"
      ]
     },
     "execution_count": 264,
     "metadata": {},
     "output_type": "execute_result"
    }
   ],
   "source": [
    "np.std(n2), np.var(n2)"
   ]
  },
  {
   "cell_type": "markdown",
   "id": "acd9029a",
   "metadata": {},
   "source": [
    "## Lecture - 7"
   ]
  },
  {
   "cell_type": "markdown",
   "id": "67932695",
   "metadata": {},
   "source": [
    "#### High Varience = Higher Range of numbers\n",
    "#### Low Varience = Lower Range of numbers"
   ]
  },
  {
   "cell_type": "code",
   "execution_count": 265,
   "id": "1b5cce73",
   "metadata": {},
   "outputs": [],
   "source": [
    "High_var_array = np.array([1,2,5,100,200,500,40000,6000])\n",
    "low_var_array = np.array([1,2,5,4,9,7,10])"
   ]
  },
  {
   "cell_type": "code",
   "execution_count": 266,
   "id": "3f5e432b",
   "metadata": {},
   "outputs": [
    {
     "data": {
      "text/plain": [
       "(5851.0, 5.428571428571429)"
      ]
     },
     "execution_count": 266,
     "metadata": {},
     "output_type": "execute_result"
    }
   ],
   "source": [
    "np.mean(High_var_array), np.mean(low_var_array)"
   ]
  },
  {
   "cell_type": "code",
   "execution_count": 267,
   "id": "6162a7b6",
   "metadata": {},
   "outputs": [
    {
     "data": {
      "text/plain": [
       "(13050.030756668737, 3.1558174334820746)"
      ]
     },
     "execution_count": 267,
     "metadata": {},
     "output_type": "execute_result"
    }
   ],
   "source": [
    "np.std(High_var_array), np.std(low_var_array)"
   ]
  },
  {
   "cell_type": "code",
   "execution_count": 268,
   "id": "178f1c3a",
   "metadata": {},
   "outputs": [
    {
     "data": {
      "text/plain": [
       "(170303302.75, 9.959183673469388)"
      ]
     },
     "execution_count": 268,
     "metadata": {},
     "output_type": "execute_result"
    }
   ],
   "source": [
    "np.var(High_var_array), np.var(low_var_array)"
   ]
  },
  {
   "cell_type": "code",
   "execution_count": 269,
   "id": "eb5ef728",
   "metadata": {},
   "outputs": [],
   "source": [
    "# Import Matplotlib\n",
    "\n",
    "import matplotlib.pyplot as plt"
   ]
  },
  {
   "cell_type": "raw",
   "id": "e79e83fd",
   "metadata": {},
   "source": [
    "plt.hist(High_var_array)\n",
    "plt.plot()"
   ]
  },
  {
   "cell_type": "code",
   "execution_count": 270,
   "id": "ca9d1c1f",
   "metadata": {},
   "outputs": [
    {
     "data": {
      "text/plain": [
       "[]"
      ]
     },
     "execution_count": 270,
     "metadata": {},
     "output_type": "execute_result"
    },
    {
     "data": {
      "image/png": "[encoded data removed]",
      "text/plain": [
       "<Figure size 432x288 with 1 Axes>"
      ]
     },
     "metadata": {
      "needs_background": "light"
     },
     "output_type": "display_data"
    }
   ],
   "source": [
    "plt.hist(low_var_array)\n",
    "plt.plot()"
   ]
  },
  {
   "cell_type": "markdown",
   "id": "70453ff0",
   "metadata": {},
   "source": [
    "## Lecture - 8"
   ]
  },
  {
   "cell_type": "markdown",
   "id": "c09f62b5",
   "metadata": {},
   "source": [
    "### Reshape and Response"
   ]
  },
  {
   "cell_type": "code",
   "execution_count": 271,
   "id": "2d4377a1",
   "metadata": {},
   "outputs": [
    {
     "data": {
      "text/plain": [
       "array([[3.2, 1. , 2.2],\n",
       "       [4. , 5.2, 6.8]])"
      ]
     },
     "execution_count": 271,
     "metadata": {},
     "output_type": "execute_result"
    }
   ],
   "source": [
    "n2"
   ]
  },
  {
   "cell_type": "code",
   "execution_count": 272,
   "id": "4fd8de1f",
   "metadata": {},
   "outputs": [
    {
     "data": {
      "text/plain": [
       "array([[[3.2],\n",
       "        [1. ],\n",
       "        [2.2]],\n",
       "\n",
       "       [[4. ],\n",
       "        [5.2],\n",
       "        [6.8]]])"
      ]
     },
     "execution_count": 272,
     "metadata": {},
     "output_type": "execute_result"
    }
   ],
   "source": [
    "n2_reshaped = n2.reshape((2,3,1))\n",
    "n2_reshaped"
   ]
  },
  {
   "cell_type": "code",
   "execution_count": 273,
   "id": "dca55a7d",
   "metadata": {},
   "outputs": [
    {
     "data": {
      "text/plain": [
       "(2, 3, 1)"
      ]
     },
     "execution_count": 273,
     "metadata": {},
     "output_type": "execute_result"
    }
   ],
   "source": [
    "n2_reshaped.shape"
   ]
  },
  {
   "cell_type": "code",
   "execution_count": 274,
   "id": "351aeddc",
   "metadata": {},
   "outputs": [
    {
     "data": {
      "text/plain": [
       "array([[[  3.2,   6.4,   9.6],\n",
       "        [  4. ,   5. ,   6. ],\n",
       "        [ 15.4,  17.6,  19.8]],\n",
       "\n",
       "       [[ 40. ,  44. ,  48. ],\n",
       "        [ 67.6,  72.8,  78. ],\n",
       "        [108.8, 115.6, 122.4]]])"
      ]
     },
     "execution_count": 274,
     "metadata": {},
     "output_type": "execute_result"
    }
   ],
   "source": [
    "n2_reshaped * n3"
   ]
  },
  {
   "cell_type": "code",
   "execution_count": 275,
   "id": "f2f90a49",
   "metadata": {},
   "outputs": [
    {
     "data": {
      "text/plain": [
       "array([[3.2, 4. ],\n",
       "       [1. , 5.2],\n",
       "       [2.2, 6.8]])"
      ]
     },
     "execution_count": 275,
     "metadata": {},
     "output_type": "execute_result"
    }
   ],
   "source": [
    "n2_transpose = n2.T # Transposing\n",
    "n2_transpose"
   ]
  },
  {
   "cell_type": "code",
   "execution_count": 276,
   "id": "6eb00678",
   "metadata": {},
   "outputs": [
    {
     "data": {
      "text/plain": [
       "(3, 2)"
      ]
     },
     "execution_count": 276,
     "metadata": {},
     "output_type": "execute_result"
    }
   ],
   "source": [
    "n2_transpose.shape"
   ]
  },
  {
   "cell_type": "markdown",
   "id": "3c4f9333",
   "metadata": {},
   "source": [
    "## Lecture - 9"
   ]
  },
  {
   "cell_type": "markdown",
   "id": "ba793ef8",
   "metadata": {},
   "source": [
    "### Dot Product vs Element Wise"
   ]
  },
  {
   "cell_type": "code",
   "execution_count": 277,
   "id": "f95c5cc3",
   "metadata": {},
   "outputs": [],
   "source": [
    "np.random.seed(0)\n",
    "mat1 = np.random.randint(10, size = (5,3))\n",
    "mat2 = np.random.randint(10, size = (5,3))"
   ]
  },
  {
   "cell_type": "code",
   "execution_count": 278,
   "id": "12bc1f51",
   "metadata": {},
   "outputs": [
    {
     "data": {
      "text/plain": [
       "((5, 3), (5, 3))"
      ]
     },
     "execution_count": 278,
     "metadata": {},
     "output_type": "execute_result"
    }
   ],
   "source": [
    "mat1.shape , mat2.shape"
   ]
  },
  {
   "cell_type": "code",
   "execution_count": 279,
   "id": "239f0f3a",
   "metadata": {},
   "outputs": [
    {
     "data": {
      "text/plain": [
       "array([[5, 0, 3],\n",
       "       [3, 7, 9],\n",
       "       [3, 5, 2],\n",
       "       [4, 7, 6],\n",
       "       [8, 8, 1]])"
      ]
     },
     "execution_count": 279,
     "metadata": {},
     "output_type": "execute_result"
    }
   ],
   "source": [
    "mat1 "
   ]
  },
  {
   "cell_type": "code",
   "execution_count": 280,
   "id": "2e6bccac",
   "metadata": {},
   "outputs": [
    {
     "data": {
      "text/plain": [
       "array([[6, 7, 7],\n",
       "       [8, 1, 5],\n",
       "       [9, 8, 9],\n",
       "       [4, 3, 0],\n",
       "       [3, 5, 0]])"
      ]
     },
     "execution_count": 280,
     "metadata": {},
     "output_type": "execute_result"
    }
   ],
   "source": [
    " mat2"
   ]
  },
  {
   "cell_type": "code",
   "execution_count": 281,
   "id": "1711c9bc",
   "metadata": {},
   "outputs": [
    {
     "data": {
      "text/plain": [
       "array([[30,  0, 21],\n",
       "       [24,  7, 45],\n",
       "       [27, 40, 18],\n",
       "       [16, 21,  0],\n",
       "       [24, 40,  0]])"
      ]
     },
     "execution_count": 281,
     "metadata": {},
     "output_type": "execute_result"
    }
   ],
   "source": [
    "mat1 * mat2 # Element Wise"
   ]
  },
  {
   "cell_type": "code",
   "execution_count": 282,
   "id": "bf2b8869",
   "metadata": {},
   "outputs": [
    {
     "data": {
      "text/plain": [
       "(3, 5)"
      ]
     },
     "execution_count": 282,
     "metadata": {},
     "output_type": "execute_result"
    }
   ],
   "source": [
    "mat1_transpose = mat1.T # Matrix Transpose\n",
    "mat1_transpose.shape  "
   ]
  },
  {
   "cell_type": "code",
   "execution_count": 283,
   "id": "798439b2",
   "metadata": {},
   "outputs": [
    {
     "data": {
      "text/plain": [
       "array([[5, 3, 3, 4, 8],\n",
       "       [0, 7, 5, 7, 8],\n",
       "       [3, 9, 2, 6, 1]])"
      ]
     },
     "execution_count": 283,
     "metadata": {},
     "output_type": "execute_result"
    }
   ],
   "source": [
    "mat1_transpose"
   ]
  },
  {
   "cell_type": "code",
   "execution_count": 284,
   "id": "87ddac78",
   "metadata": {},
   "outputs": [
    {
     "data": {
      "text/plain": [
       "array([[121, 114,  77],\n",
       "       [153, 108,  80],\n",
       "       [135,  69,  84]])"
      ]
     },
     "execution_count": 284,
     "metadata": {},
     "output_type": "execute_result"
    }
   ],
   "source": [
    "np.dot(mat1_transpose, mat2)"
   ]
  },
  {
   "cell_type": "markdown",
   "id": "cfd0bce2",
   "metadata": {},
   "source": [
    "## Lecture - 10"
   ]
  },
  {
   "cell_type": "code",
   "execution_count": 285,
   "id": "bf7e63a6",
   "metadata": {},
   "outputs": [
    {
     "data": {
      "text/plain": [
       "array([[18,  3, 17],\n",
       "       [19, 19, 19],\n",
       "       [14,  7,  0],\n",
       "       [ 1,  9,  0],\n",
       "       [10,  3, 11]])"
      ]
     },
     "execution_count": 285,
     "metadata": {},
     "output_type": "execute_result"
    }
   ],
   "source": [
    "sales_amount = np.random.randint(20, size = (5,3))\n",
    "sales_amount"
   ]
  },
  {
   "cell_type": "code",
   "execution_count": 286,
   "id": "45632bbc",
   "metadata": {},
   "outputs": [
    {
     "data": {
      "text/html": [
       "<div>\n",
       "<style scoped>\n",
       "    .dataframe tbody tr th:only-of-type {\n",
       "        vertical-align: middle;\n",
       "    }\n",
       "\n",
       "    .dataframe tbody tr th {\n",
       "        vertical-align: top;\n",
       "    }\n",
       "\n",
       "    .dataframe thead th {\n",
       "        text-align: right;\n",
       "    }\n",
       "</style>\n",
       "<table border=\"1\" class=\"dataframe\">\n",
       "  <thead>\n",
       "    <tr style=\"text-align: right;\">\n",
       "      <th></th>\n",
       "      <th>Almond Butter</th>\n",
       "      <th>Peanut Butter</th>\n",
       "      <th>Cashew Butter</th>\n",
       "    </tr>\n",
       "  </thead>\n",
       "  <tbody>\n",
       "    <tr>\n",
       "      <th>Mon</th>\n",
       "      <td>18</td>\n",
       "      <td>3</td>\n",
       "      <td>17</td>\n",
       "    </tr>\n",
       "    <tr>\n",
       "      <th>Tue</th>\n",
       "      <td>19</td>\n",
       "      <td>19</td>\n",
       "      <td>19</td>\n",
       "    </tr>\n",
       "    <tr>\n",
       "      <th>Wed</th>\n",
       "      <td>14</td>\n",
       "      <td>7</td>\n",
       "      <td>0</td>\n",
       "    </tr>\n",
       "    <tr>\n",
       "      <th>Thurs</th>\n",
       "      <td>1</td>\n",
       "      <td>9</td>\n",
       "      <td>0</td>\n",
       "    </tr>\n",
       "    <tr>\n",
       "      <th>Fri</th>\n",
       "      <td>10</td>\n",
       "      <td>3</td>\n",
       "      <td>11</td>\n",
       "    </tr>\n",
       "  </tbody>\n",
       "</table>\n",
       "</div>"
      ],
      "text/plain": [
       "       Almond Butter  Peanut Butter  Cashew Butter\n",
       "Mon               18              3             17\n",
       "Tue               19             19             19\n",
       "Wed               14              7              0\n",
       "Thurs              1              9              0\n",
       "Fri               10              3             11"
      ]
     },
     "execution_count": 286,
     "metadata": {},
     "output_type": "execute_result"
    }
   ],
   "source": [
    "weekly_data = pd.DataFrame(sales_amount,\n",
    "                          index=[\"Mon\",\"Tue\",\"Wed\",\"Thurs\",\"Fri\"],\n",
    "                          columns=[\"Almond Butter\", \"Peanut Butter\", \"Cashew Butter\"])\n",
    "weekly_data"
   ]
  },
  {
   "cell_type": "code",
   "execution_count": 287,
   "id": "542dc506",
   "metadata": {},
   "outputs": [
    {
     "data": {
      "text/plain": [
       "array([[38, 43, 48]])"
      ]
     },
     "execution_count": 287,
     "metadata": {},
     "output_type": "execute_result"
    }
   ],
   "source": [
    "price_data = np.random.randint(20,50, size= (1,3))\n",
    "price_data"
   ]
  },
  {
   "cell_type": "code",
   "execution_count": 288,
   "id": "d5d07f18",
   "metadata": {},
   "outputs": [
    {
     "data": {
      "text/html": [
       "<div>\n",
       "<style scoped>\n",
       "    .dataframe tbody tr th:only-of-type {\n",
       "        vertical-align: middle;\n",
       "    }\n",
       "\n",
       "    .dataframe tbody tr th {\n",
       "        vertical-align: top;\n",
       "    }\n",
       "\n",
       "    .dataframe thead th {\n",
       "        text-align: right;\n",
       "    }\n",
       "</style>\n",
       "<table border=\"1\" class=\"dataframe\">\n",
       "  <thead>\n",
       "    <tr style=\"text-align: right;\">\n",
       "      <th></th>\n",
       "      <th>Almond Butter</th>\n",
       "      <th>Peanut Butter</th>\n",
       "      <th>Cashew Butter</th>\n",
       "    </tr>\n",
       "  </thead>\n",
       "  <tbody>\n",
       "    <tr>\n",
       "      <th>Price</th>\n",
       "      <td>38</td>\n",
       "      <td>43</td>\n",
       "      <td>48</td>\n",
       "    </tr>\n",
       "  </tbody>\n",
       "</table>\n",
       "</div>"
      ],
      "text/plain": [
       "       Almond Butter  Peanut Butter  Cashew Butter\n",
       "Price             38             43             48"
      ]
     },
     "execution_count": 288,
     "metadata": {},
     "output_type": "execute_result"
    }
   ],
   "source": [
    "price_table = pd.DataFrame(price_data,\n",
    "                          index=[\"Price\"],\n",
    "                          columns=[\"Almond Butter\", \"Peanut Butter\", \"Cashew Butter\"])\n",
    "price_table"
   ]
  },
  {
   "cell_type": "code",
   "execution_count": 289,
   "id": "061b83f4",
   "metadata": {},
   "outputs": [
    {
     "data": {
      "text/plain": [
       "(1, 3)"
      ]
     },
     "execution_count": 289,
     "metadata": {},
     "output_type": "execute_result"
    }
   ],
   "source": [
    "price_data.shape"
   ]
  },
  {
   "cell_type": "code",
   "execution_count": 290,
   "id": "c31414b8",
   "metadata": {},
   "outputs": [
    {
     "data": {
      "text/plain": [
       "(5, 3)"
      ]
     },
     "execution_count": 290,
     "metadata": {},
     "output_type": "execute_result"
    }
   ],
   "source": [
    "sales_amount.shape"
   ]
  },
  {
   "cell_type": "code",
   "execution_count": 291,
   "id": "b6f2627c",
   "metadata": {},
   "outputs": [
    {
     "data": {
      "text/html": [
       "<div>\n",
       "<style scoped>\n",
       "    .dataframe tbody tr th:only-of-type {\n",
       "        vertical-align: middle;\n",
       "    }\n",
       "\n",
       "    .dataframe tbody tr th {\n",
       "        vertical-align: top;\n",
       "    }\n",
       "\n",
       "    .dataframe thead th {\n",
       "        text-align: right;\n",
       "    }\n",
       "</style>\n",
       "<table border=\"1\" class=\"dataframe\">\n",
       "  <thead>\n",
       "    <tr style=\"text-align: right;\">\n",
       "      <th></th>\n",
       "      <th>Mon</th>\n",
       "      <th>Tue</th>\n",
       "      <th>Wed</th>\n",
       "      <th>Thurs</th>\n",
       "      <th>Fri</th>\n",
       "    </tr>\n",
       "  </thead>\n",
       "  <tbody>\n",
       "    <tr>\n",
       "      <th>Price</th>\n",
       "      <td>1629</td>\n",
       "      <td>2451</td>\n",
       "      <td>833</td>\n",
       "      <td>425</td>\n",
       "      <td>1037</td>\n",
       "    </tr>\n",
       "  </tbody>\n",
       "</table>\n",
       "</div>"
      ],
      "text/plain": [
       "        Mon   Tue  Wed  Thurs   Fri\n",
       "Price  1629  2451  833    425  1037"
      ]
     },
     "execution_count": 291,
     "metadata": {},
     "output_type": "execute_result"
    }
   ],
   "source": [
    "weekly_sales = price_table.dot(weekly_data.T)\n",
    "weekly_sales"
   ]
  },
  {
   "cell_type": "code",
   "execution_count": 292,
   "id": "49e572e8",
   "metadata": {},
   "outputs": [
    {
     "data": {
      "text/html": [
       "<div>\n",
       "<style scoped>\n",
       "    .dataframe tbody tr th:only-of-type {\n",
       "        vertical-align: middle;\n",
       "    }\n",
       "\n",
       "    .dataframe tbody tr th {\n",
       "        vertical-align: top;\n",
       "    }\n",
       "\n",
       "    .dataframe thead th {\n",
       "        text-align: right;\n",
       "    }\n",
       "</style>\n",
       "<table border=\"1\" class=\"dataframe\">\n",
       "  <thead>\n",
       "    <tr style=\"text-align: right;\">\n",
       "      <th></th>\n",
       "      <th>Almond Butter</th>\n",
       "      <th>Peanut Butter</th>\n",
       "      <th>Cashew Butter</th>\n",
       "      <th>Total Price</th>\n",
       "    </tr>\n",
       "  </thead>\n",
       "  <tbody>\n",
       "    <tr>\n",
       "      <th>Mon</th>\n",
       "      <td>18</td>\n",
       "      <td>3</td>\n",
       "      <td>17</td>\n",
       "      <td>1629</td>\n",
       "    </tr>\n",
       "    <tr>\n",
       "      <th>Tue</th>\n",
       "      <td>19</td>\n",
       "      <td>19</td>\n",
       "      <td>19</td>\n",
       "      <td>2451</td>\n",
       "    </tr>\n",
       "    <tr>\n",
       "      <th>Wed</th>\n",
       "      <td>14</td>\n",
       "      <td>7</td>\n",
       "      <td>0</td>\n",
       "      <td>833</td>\n",
       "    </tr>\n",
       "    <tr>\n",
       "      <th>Thurs</th>\n",
       "      <td>1</td>\n",
       "      <td>9</td>\n",
       "      <td>0</td>\n",
       "      <td>425</td>\n",
       "    </tr>\n",
       "    <tr>\n",
       "      <th>Fri</th>\n",
       "      <td>10</td>\n",
       "      <td>3</td>\n",
       "      <td>11</td>\n",
       "      <td>1037</td>\n",
       "    </tr>\n",
       "  </tbody>\n",
       "</table>\n",
       "</div>"
      ],
      "text/plain": [
       "       Almond Butter  Peanut Butter  Cashew Butter  Total Price\n",
       "Mon               18              3             17         1629\n",
       "Tue               19             19             19         2451\n",
       "Wed               14              7              0          833\n",
       "Thurs              1              9              0          425\n",
       "Fri               10              3             11         1037"
      ]
     },
     "execution_count": 292,
     "metadata": {},
     "output_type": "execute_result"
    }
   ],
   "source": [
    "weekly_data[\"Total Price\"] = weekly_sales.T\n",
    "weekly_data"
   ]
  },
  {
   "cell_type": "markdown",
   "id": "cae8baa6",
   "metadata": {},
   "source": [
    "## Lecture - 10"
   ]
  },
  {
   "cell_type": "markdown",
   "id": "914d8389",
   "metadata": {},
   "source": [
    "### Comparision Operator"
   ]
  },
  {
   "cell_type": "code",
   "execution_count": 293,
   "id": "d0f50c38",
   "metadata": {},
   "outputs": [
    {
     "data": {
      "text/plain": [
       "array([[False, False, False],\n",
       "       [False, False, False]])"
      ]
     },
     "execution_count": 293,
     "metadata": {},
     "output_type": "execute_result"
    }
   ],
   "source": [
    "n1 ==n2"
   ]
  },
  {
   "cell_type": "code",
   "execution_count": 294,
   "id": "c29e1c10",
   "metadata": {},
   "outputs": [
    {
     "data": {
      "text/plain": [
       "array([False, False, False])"
      ]
     },
     "execution_count": 294,
     "metadata": {},
     "output_type": "execute_result"
    }
   ],
   "source": [
    "n1 > 5"
   ]
  },
  {
   "cell_type": "code",
   "execution_count": 295,
   "id": "55fa63e2",
   "metadata": {},
   "outputs": [
    {
     "data": {
      "text/plain": [
       "array([[False,  True,  True],\n",
       "       [False, False, False]])"
      ]
     },
     "execution_count": 295,
     "metadata": {},
     "output_type": "execute_result"
    }
   ],
   "source": [
    "n2 <= n1"
   ]
  },
  {
   "cell_type": "code",
   "execution_count": 296,
   "id": "c2faeae5",
   "metadata": {},
   "outputs": [
    {
     "data": {
      "text/plain": [
       "array([[ True, False, False],\n",
       "       [ True,  True,  True]])"
      ]
     },
     "execution_count": 296,
     "metadata": {},
     "output_type": "execute_result"
    }
   ],
   "source": [
    "bool_array = n2 > n1\n",
    "bool_array"
   ]
  },
  {
   "cell_type": "code",
   "execution_count": 297,
   "id": "92274bc7",
   "metadata": {},
   "outputs": [
    {
     "data": {
      "text/plain": [
       "numpy.ndarray"
      ]
     },
     "execution_count": 297,
     "metadata": {},
     "output_type": "execute_result"
    }
   ],
   "source": [
    "type(bool_array)"
   ]
  },
  {
   "cell_type": "code",
   "execution_count": 298,
   "id": "d2a0053d",
   "metadata": {},
   "outputs": [
    {
     "data": {
      "text/plain": [
       "array([[ True,  True,  True],\n",
       "       [ True,  True,  True]])"
      ]
     },
     "execution_count": 298,
     "metadata": {},
     "output_type": "execute_result"
    }
   ],
   "source": [
    "n1 != n2"
   ]
  },
  {
   "cell_type": "markdown",
   "id": "5f3b690c",
   "metadata": {},
   "source": [
    "## Lecture - 11"
   ]
  },
  {
   "cell_type": "markdown",
   "id": "f6f636f8",
   "metadata": {},
   "source": [
    "### Sorting Arrays"
   ]
  },
  {
   "cell_type": "code",
   "execution_count": 299,
   "id": "58769cc3",
   "metadata": {},
   "outputs": [
    {
     "data": {
      "text/plain": [
       "array([[5, 3, 3, 4, 8],\n",
       "       [0, 7, 5, 7, 8],\n",
       "       [3, 9, 2, 6, 1]])"
      ]
     },
     "execution_count": 299,
     "metadata": {},
     "output_type": "execute_result"
    }
   ],
   "source": [
    "mat1_transpose"
   ]
  },
  {
   "cell_type": "code",
   "execution_count": 300,
   "id": "0ec8a94e",
   "metadata": {
    "scrolled": true
   },
   "outputs": [
    {
     "data": {
      "text/plain": [
       "array([[3, 3, 4, 5, 8],\n",
       "       [0, 5, 7, 7, 8],\n",
       "       [1, 2, 3, 6, 9]])"
      ]
     },
     "execution_count": 300,
     "metadata": {},
     "output_type": "execute_result"
    }
   ],
   "source": [
    "np.sort(mat1_transpose)"
   ]
  },
  {
   "cell_type": "code",
   "execution_count": 301,
   "id": "7c3f9424",
   "metadata": {},
   "outputs": [
    {
     "data": {
      "text/plain": [
       "array([[1, 2, 3, 0, 4],\n",
       "       [0, 2, 1, 3, 4],\n",
       "       [4, 2, 0, 3, 1]])"
      ]
     },
     "execution_count": 301,
     "metadata": {},
     "output_type": "execute_result"
    }
   ],
   "source": [
    "np.argsort(mat1_transpose)"
   ]
  },
  {
   "cell_type": "code",
   "execution_count": 302,
   "id": "4d1c4610",
   "metadata": {},
   "outputs": [
    {
     "data": {
      "text/plain": [
       "3"
      ]
     },
     "execution_count": 302,
     "metadata": {},
     "output_type": "execute_result"
    }
   ],
   "source": [
    "np.max(n1)"
   ]
  },
  {
   "cell_type": "code",
   "execution_count": 303,
   "id": "530458bc",
   "metadata": {},
   "outputs": [
    {
     "data": {
      "text/plain": [
       "1"
      ]
     },
     "execution_count": 303,
     "metadata": {},
     "output_type": "execute_result"
    }
   ],
   "source": [
    "np.min(n1)"
   ]
  },
  {
   "cell_type": "code",
   "execution_count": 304,
   "id": "0a19e954",
   "metadata": {},
   "outputs": [
    {
     "data": {
      "text/plain": [
       "array([0, 2, 1, 1, 0])"
      ]
     },
     "execution_count": 304,
     "metadata": {},
     "output_type": "execute_result"
    }
   ],
   "source": [
    "np.argmax(mat1_transpose, axis=0)"
   ]
  },
  {
   "cell_type": "code",
   "execution_count": 305,
   "id": "8656f9f1",
   "metadata": {},
   "outputs": [
    {
     "data": {
      "text/plain": [
       "array([4, 4, 1])"
      ]
     },
     "execution_count": 305,
     "metadata": {},
     "output_type": "execute_result"
    }
   ],
   "source": [
    "np.argmax(mat1_transpose, axis=1)"
   ]
  },
  {
   "cell_type": "markdown",
   "id": "1e4c6567",
   "metadata": {},
   "source": [
    "## Project : Turning Image into a Matrix"
   ]
  },
  {
   "cell_type": "markdown",
   "id": "f7e0e89c",
   "metadata": {},
   "source": [
    "<img src=\"img/shubham.jpg\"/> "
   ]
  },
  {
   "cell_type": "code",
   "execution_count": 306,
   "id": "b4e3dca6",
   "metadata": {},
   "outputs": [
    {
     "name": "stdout",
     "output_type": "stream",
     "text": [
      "<class 'numpy.ndarray'>\n"
     ]
    }
   ],
   "source": [
    "from matplotlib.image import imread\n",
    "my_image = imread(\"img/shubham.jpg\")\n",
    "print(type(my_image))"
   ]
  },
  {
   "cell_type": "code",
   "execution_count": 307,
   "id": "10df644f",
   "metadata": {},
   "outputs": [
    {
     "data": {
      "text/plain": [
       "(4446720, (1280, 1158, 3), 3)"
      ]
     },
     "execution_count": 307,
     "metadata": {},
     "output_type": "execute_result"
    }
   ],
   "source": [
    "my_image.size, my_image.shape, my_image.ndim"
   ]
  },
  {
   "cell_type": "code",
   "execution_count": 308,
   "id": "920a91b8",
   "metadata": {},
   "outputs": [
    {
     "data": {
      "text/plain": [
       "array([[[222, 225, 218],\n",
       "        [221, 224, 217],\n",
       "        [219, 222, 215],\n",
       "        ...,\n",
       "        [220, 225, 219],\n",
       "        [220, 225, 219],\n",
       "        [220, 225, 219]]], dtype=uint8)"
      ]
     },
     "execution_count": 308,
     "metadata": {},
     "output_type": "execute_result"
    }
   ],
   "source": [
    "my_image[:1]"
   ]
  },
  {
   "cell_type": "markdown",
   "id": "6cf1329e",
   "metadata": {},
   "source": [
    "### End of Numpy"
   ]
  }
 ],
 "metadata": {
  "kernelspec": {
   "display_name": "Python 3",
   "language": "python",
   "name": "python3"
  },
  "language_info": {
   "codemirror_mode": {
    "name": "ipython",
    "version": 3
   },
   "file_extension": ".py",
   "mimetype": "text/x-python",
   "name": "python",
   "nbconvert_exporter": "python",
   "pygments_lexer": "ipython3",
   "version": "3.9.5"
  }
 },
 "nbformat": 4,
 "nbformat_minor": 5
}
